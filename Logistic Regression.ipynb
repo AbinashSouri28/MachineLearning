{
 "cells": [
  {
   "cell_type": "code",
   "execution_count": 12,
   "id": "c876c482",
   "metadata": {},
   "outputs": [
    {
     "name": "stdout",
     "output_type": "stream",
     "text": [
      "   clientid        income        age         loan       LTI  default\n",
      "0         1  66155.925095  59.017015  8106.532131  0.122537        0\n",
      "1         2  34415.153966  48.117153  6564.745018  0.190752        0\n",
      "2         3  57317.170063  63.108049  8020.953296  0.139940        0\n",
      "3         4  42709.534201  45.751972  6103.642260  0.142911        0\n",
      "4         5  66952.688845  18.584336  8770.099235  0.130989        1\n",
      "          clientid        income          age          loan          LTI  \\\n",
      "count  2000.000000   2000.000000  2000.000000   2000.000000  2000.000000   \n",
      "mean   1000.500000  45331.600018    40.927143   4444.369695     0.098403   \n",
      "std     577.494589  14326.327119    13.262450   3045.410024     0.057620   \n",
      "min       1.000000  20014.489470    18.055189      1.377630     0.000049   \n",
      "25%     500.750000  32796.459717    29.062492   1939.708847     0.047903   \n",
      "50%    1000.500000  45789.117313    41.382673   3974.719419     0.099437   \n",
      "75%    1500.250000  57791.281668    52.596993   6432.410625     0.147585   \n",
      "max    2000.000000  69995.685578    63.971796  13766.051239     0.199938   \n",
      "\n",
      "           default  \n",
      "count  2000.000000  \n",
      "mean      0.141500  \n",
      "std       0.348624  \n",
      "min       0.000000  \n",
      "25%       0.000000  \n",
      "50%       0.000000  \n",
      "75%       0.000000  \n",
      "max       1.000000  \n",
      "          clientid    income       age      loan       LTI   default\n",
      "clientid  1.000000  0.039280 -0.030341  0.018931  0.002538 -0.020145\n",
      "income    0.039280  1.000000 -0.034984  0.441117 -0.019862  0.002284\n",
      "age      -0.030341 -0.034984  1.000000  0.006561  0.021588 -0.444765\n",
      "loan      0.018931  0.441117  0.006561  1.000000  0.847495  0.377160\n",
      "LTI       0.002538 -0.019862  0.021588  0.847495  1.000000  0.433261\n",
      "default  -0.020145  0.002284 -0.444765  0.377160  0.433261  1.000000\n",
      "[[498  11]\n",
      " [ 47  44]]\n",
      "0.9033333333333333\n"
     ]
    }
   ],
   "source": [
    "import numpy as np\n",
    "import pandas as pd \n",
    "from sklearn.linear_model import LogisticRegression\n",
    "from sklearn.model_selection import train_test_split\n",
    "from sklearn.metrics import confusion_matrix\n",
    "from sklearn.metrics import accuracy_score\n",
    "creditData = pd.read_csv(\"C:\\\\Users\\\\abina\\\\Downloads\\\\PythonMachineLearning\\\\Datasets\\\\Datasets\\\\credit_data.csv\")\n",
    "\n",
    "print(creditData.head())\n",
    "print(creditData.describe())\n",
    "print(creditData.corr())\n",
    "\n",
    "features = creditData[[\"income\",\"age\",\"loan\"]]\n",
    "target = creditData.default\n",
    "\n",
    "feature_train, feature_test, target_train, target_test = train_test_split(features,target, test_size=0.3)\n",
    "\n",
    "model = LogisticRegression()\n",
    "model.fit = model.fit(feature_train, target_train)\n",
    "predictions = model.fit.predict(feature_test)\n",
    "\n",
    "print(confusion_matrix(target_test, predictions))\n",
    "print(accuracy_score(target_test,predictions))"
   ]
  },
  {
   "cell_type": "code",
   "execution_count": 24,
   "id": "2ede3a25",
   "metadata": {},
   "outputs": [
    {
     "name": "stdout",
     "output_type": "stream",
     "text": [
      "   clientid        income        age         loan       LTI  default\n",
      "0         1  66155.925095  59.017015  8106.532131  0.122537        0\n",
      "1         2  34415.153966  48.117153  6564.745018  0.190752        0\n",
      "2         3  57317.170063  63.108049  8020.953296  0.139940        0\n",
      "3         4  42709.534201  45.751972  6103.642260  0.142911        0\n",
      "4         5  66952.688845  18.584336  8770.099235  0.130989        1\n",
      "          clientid        income          age          loan          LTI  \\\n",
      "count  2000.000000   2000.000000  2000.000000   2000.000000  2000.000000   \n",
      "mean   1000.500000  45331.600018    40.927143   4444.369695     0.098403   \n",
      "std     577.494589  14326.327119    13.262450   3045.410024     0.057620   \n",
      "min       1.000000  20014.489470    18.055189      1.377630     0.000049   \n",
      "25%     500.750000  32796.459717    29.062492   1939.708847     0.047903   \n",
      "50%    1000.500000  45789.117313    41.382673   3974.719419     0.099437   \n",
      "75%    1500.250000  57791.281668    52.596993   6432.410625     0.147585   \n",
      "max    2000.000000  69995.685578    63.971796  13766.051239     0.199938   \n",
      "\n",
      "           default  \n",
      "count  2000.000000  \n",
      "mean      0.141500  \n",
      "std       0.348624  \n",
      "min       0.000000  \n",
      "25%       0.000000  \n",
      "50%       0.000000  \n",
      "75%       0.000000  \n",
      "max       1.000000  \n",
      "          clientid    income       age      loan       LTI   default\n",
      "clientid  1.000000  0.039280 -0.030341  0.018931  0.002538 -0.020145\n",
      "income    0.039280  1.000000 -0.034984  0.441117 -0.019862  0.002284\n",
      "age      -0.030341 -0.034984  1.000000  0.006561  0.021588 -0.444765\n",
      "loan      0.018931  0.441117  0.006561  1.000000  0.847495  0.377160\n",
      "LTI       0.002538 -0.019862  0.021588  0.847495  1.000000  0.433261\n",
      "default  -0.020145  0.002284 -0.444765  0.377160  0.433261  1.000000\n"
     ]
    },
    {
     "ename": "AttributeError",
     "evalue": "'function' object has no attribute 'predict'",
     "output_type": "error",
     "traceback": [
      "\u001b[1;31m---------------------------------------------------------------------------\u001b[0m",
      "\u001b[1;31mAttributeError\u001b[0m                            Traceback (most recent call last)",
      "Cell \u001b[1;32mIn[24], line 22\u001b[0m\n\u001b[0;32m     17\u001b[0m model\u001b[38;5;241m.\u001b[39mfit(feature_train,target_train)\n\u001b[0;32m     18\u001b[0m \u001b[38;5;66;03m#predictions = model.fit.predict(feature_test)\u001b[39;00m\n\u001b[0;32m     19\u001b[0m \n\u001b[0;32m     20\u001b[0m \u001b[38;5;66;03m#model = LogisticRegression()\u001b[39;00m\n\u001b[0;32m     21\u001b[0m \u001b[38;5;66;03m#model.fit = model.fit(feature_train, target_train)\u001b[39;00m\n\u001b[1;32m---> 22\u001b[0m predictions \u001b[38;5;241m=\u001b[39m model\u001b[38;5;241m.\u001b[39mfit\u001b[38;5;241m.\u001b[39mpredict(feature_test)\n\u001b[0;32m     24\u001b[0m \u001b[38;5;28mprint\u001b[39m(confusion_matrix(target_test,predictions))\n\u001b[0;32m     25\u001b[0m \u001b[38;5;28mprint\u001b[39m(accuracy_score(target_test,predictions))\n",
      "\u001b[1;31mAttributeError\u001b[0m: 'function' object has no attribute 'predict'"
     ]
    }
   ],
   "source": [
    "import pandas as pd\n",
    "from sklearn.model_selection import train_test_split\n",
    "from sklearn.linear_model import LogisticRegression\n",
    "from sklearn.metrics import confusion_matrix,accuracy_score\n",
    "\n",
    "\n",
    "creditData = pd.read_csv(\"C:\\\\Users\\\\abina\\\\Downloads\\\\PythonMachineLearning\\\\Datasets\\\\Datasets\\\\credit_data.csv\")\n",
    "print(creditData.head())\n",
    "print(creditData.describe())\n",
    "print(creditData.corr())\n",
    "\n",
    "features = creditData[[\"income\",\"age\",\"loan\"]]\n",
    "target =creditData.default\n",
    "\n",
    "feature_train,feature_test,target_train,target_test =train_test_split(features,target,test_size=0.3)\n",
    "model =LogisticRegression()\n",
    "model = LogisticRegression()\n",
    "model.fit(feature_train,target_train)\n",
    "#predictions = model.fit.predict(feature_test)\n",
    "\n",
    "#model = LogisticRegression()\n",
    "#model.fit = model.fit(feature_train, target_train)\n",
    "predictions = model.fit.predict(feature_test)\n",
    "\n",
    "print(confusion_matrix(target_test,predictions))\n",
    "print(accuracy_score(target_test,predictions))"
   ]
  },
  {
   "cell_type": "code",
   "execution_count": null,
   "id": "8fd78822",
   "metadata": {},
   "outputs": [],
   "source": []
  }
 ],
 "metadata": {
  "kernelspec": {
   "display_name": "Python 3 (ipykernel)",
   "language": "python",
   "name": "python3"
  },
  "language_info": {
   "codemirror_mode": {
    "name": "ipython",
    "version": 3
   },
   "file_extension": ".py",
   "mimetype": "text/x-python",
   "name": "python",
   "nbconvert_exporter": "python",
   "pygments_lexer": "ipython3",
   "version": "3.11.5"
  }
 },
 "nbformat": 4,
 "nbformat_minor": 5
}
